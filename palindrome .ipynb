{
 "cells": [
  {
   "cell_type": "code",
   "execution_count": 3,
   "metadata": {},
   "outputs": [
    {
     "name": "stdout",
     "output_type": "stream",
     "text": [
      "mom\n",
      "m\n",
      "om\n",
      "mom\n",
      "reversre text: mom\n",
      "yes,the given string is palindrome\n"
     ]
    }
   ],
   "source": [
    "text = str (input())\n",
    "rev_text=\"\"\n",
    "for j in text:\n",
    "    rev_text =j+rev_text\n",
    "    print(rev_text)\n",
    "print(\"reversre text:\",rev_text)\n",
    "\n",
    "if text == rev_text:\n",
    "    print(\"yes,the given string is palindrome\")\n",
    "else:\n",
    "    print(\"no,the given string is not palindrome\")"
   ]
  },
  {
   "cell_type": "code",
   "execution_count": null,
   "metadata": {},
   "outputs": [],
   "source": []
  }
 ],
 "metadata": {
  "kernelspec": {
   "display_name": "Python 3",
   "language": "python",
   "name": "python3"
  },
  "language_info": {
   "codemirror_mode": {
    "name": "ipython",
    "version": 3
   },
   "file_extension": ".py",
   "mimetype": "text/x-python",
   "name": "python",
   "nbconvert_exporter": "python",
   "pygments_lexer": "ipython3",
   "version": "3.7.4"
  }
 },
 "nbformat": 4,
 "nbformat_minor": 2
}
